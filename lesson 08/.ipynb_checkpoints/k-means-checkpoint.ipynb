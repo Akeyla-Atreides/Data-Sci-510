{
 "cells": [
  {
   "cell_type": "code",
   "execution_count": 74,
   "id": "brutal-drink",
   "metadata": {},
   "outputs": [],
   "source": [
    "import os, sys\n",
    "sys.path.insert(1, os.path.join(sys.path[0], '..'))\n",
    "from scratch.linear_algebra import Vector\n",
    "import matplotlib.pyplot as plt\n",
    "%matplotlib inline\n",
    "\n",
    "def num_differences(v1: Vector, v2: Vector) -> int:\n",
    "    assert len(v1) == len(v2)\n",
    "    return len([x1 for x1, x2 in zip(v1, v2) if x1 != x2])\n",
    "\n",
    "\n",
    "assert num_differences([1, 2, 3], [2, 1, 3]) == 2\n",
    "assert num_differences([1, 2], [1, 2]) == 0"
   ]
  },
  {
   "cell_type": "code",
   "execution_count": 75,
   "id": "social-laugh",
   "metadata": {},
   "outputs": [],
   "source": [
    "from typing import List\n",
    "from scratch.linear_algebra import vector_mean\n",
    "\n",
    "def cluster_means(k: int, inputs: List[Vector], assignments: List[int]) -> List[Vector]:\n",
    "    # clusters[i] contains the inputs whose assignment is i\n",
    "    clusters = [[] for i in range(k)]\n",
    "    for input, assignment in zip(inputs, assignments):\n",
    "        clusters[assignment].append(input)\n",
    "    # if a cluster is empty, just use a random point\n",
    "    return [vector_mean(cluster) if cluster else random.choice(inputs) for cluster in clusters]"
   ]
  },
  {
   "cell_type": "code",
   "execution_count": 76,
   "id": "virgin-bangkok",
   "metadata": {},
   "outputs": [],
   "source": [
    "import itertools\n",
    "import random\n",
    "import tqdm\n",
    "from scratch.linear_algebra import squared_distance\n",
    "\n",
    "class KMeans:\n",
    "    def __init__(self, k: int) -> None:\n",
    "        self.k = k\n",
    "        # number of clusters\n",
    "        self.means = None\n",
    "        \n",
    "    def classify(self, input: Vector) -> int:\n",
    "        \"\"\"return the index of the cluster closest to the input\"\"\"\n",
    "        return min(range(self.k), key=lambda i: squared_distance(input, self.means[i]))\n",
    "\n",
    "    def train(self, inputs: List[Vector]) -> None:\n",
    "        # Start with random assignments\n",
    "        assignments = [random.randrange(self.k) for _ in inputs]\n",
    "\n",
    "        with tqdm.tqdm(itertools.count()) as t:\n",
    "            for _ in t:\n",
    "                # Compute means and find new assignments\n",
    "                self.means = cluster_means(self.k, inputs, assignments)\n",
    "                new_assignments = [self.classify(input) for input in inputs]\n",
    "                # Check how many assignments changed and if we're done\n",
    "                num_changed = num_differences(assignments, new_assignments)\n",
    "                if num_changed == 0:\n",
    "                    return\n",
    "                # Otherwise keep the new assignments, and compute new means\n",
    "                assignments = new_assignments\n",
    "                self.means = cluster_means(self.k, inputs, assignments)\n",
    "                t.set_description(f\"changed: {num_changed} / {len(inputs)}\")"
   ]
  },
  {
   "cell_type": "code",
   "execution_count": 114,
   "id": "conditional-france",
   "metadata": {},
   "outputs": [
    {
     "data": {
      "image/png": "[encoded data removed]",
      "text/plain": [
       "<Figure size 720x720 with 1 Axes>"
      ]
     },
     "metadata": {
      "needs_background": "light"
     },
     "output_type": "display_data"
    }
   ],
   "source": [
    "inputs = [[-50, 0], [-50, 15], [-48, 5], [-42, 8], [-35, -1],\n",
    "         [-28, -10], [-23, -15], [-20, -10], [-20, -4], [-15, -5], [-12, -6], [-13, -8],[ -10, -15], [-13, -20],\n",
    "         [10, 15], [12, 12], [20, 20], [20, 28], [22, 27], [25, 15]]\n",
    "\n",
    "x, y = zip(*inputs)\n",
    "\n",
    "fig, ax = plt.subplots(figsize=(10, 10))\n",
    "plt.xlim(-60, 30)\n",
    "plt.ylim(-30, 40)\n",
    "ax.scatter(x, y)\n",
    "plt.show()"
   ]
  },
  {
   "cell_type": "code",
   "execution_count": 115,
   "id": "working-cambridge",
   "metadata": {},
   "outputs": [
    {
     "name": "stderr",
     "output_type": "stream",
     "text": [
      "changed: 5 / 20: : 2it [00:00, 479.82it/s]\n",
      "changed: 1 / 20: : 3it [00:00, 2081.20it/s]"
     ]
    },
    {
     "name": "stdout",
     "output_type": "stream",
     "text": [
      "[[18.166666666666664, 19.5], [-27.07142857142857, -4.714285714285714], [25, 15]]\n",
      "[[18.166666666666664, 19.5], [-17.11111111111111, -10.333333333333332], [-45.0, 5.4]]\n",
      "[[-15.0, -5.75], [-37.0, -1.0], [10.75, 10.25]]\n",
      "[[-15.75, -10.375], [-42.166666666666664, 2.833333333333333], [18.166666666666664, 19.5]]\n",
      "[[-17.11111111111111, -10.333333333333332], [-45.0, 5.4], [18.166666666666664, 19.5]]\n"
     ]
    },
    {
     "name": "stderr",
     "output_type": "stream",
     "text": [
      "\n"
     ]
    }
   ],
   "source": [
    "random.seed(12) # so you get the same results as me\n",
    "clusterer = KMeans(k=3)\n",
    "clusterer.train(inputs)\n",
    "\n",
    "clusterer.train(inputs)\n",
    "means = sorted(clusterer.means) # sort for the unit test\n",
    "\n",
    "assert len(means) == 3\n",
    "# Check that the means are close to what we expect\n",
    "assert squared_distance(means[0], [-45, 5]) < 1\n",
    "assert squared_distance(means[1], [-17, -10]) < 1\n",
    "assert squared_distance(means[2], [18, 20]) < 1"
   ]
  },
  {
   "cell_type": "code",
   "execution_count": 116,
   "id": "polyphonic-cooperation",
   "metadata": {},
   "outputs": [
    {
     "name": "stderr",
     "output_type": "stream",
     "text": [
      "changed: 1 / 20: : 2it [00:00, 1583.65it/s]"
     ]
    },
    {
     "name": "stdout",
     "output_type": "stream",
     "text": [
      "[[14.142857142857142, 14.571428571428571], [-28.384615384615387, -3.9230769230769234]]\n",
      "[[18.166666666666664, 19.5], [-27.07142857142857, -4.714285714285714]]\n"
     ]
    },
    {
     "name": "stderr",
     "output_type": "stream",
     "text": [
      "\n"
     ]
    }
   ],
   "source": [
    "random.seed(0)\n",
    "clusterer = KMeans(k=2)\n",
    "clusterer.train(inputs)\n",
    "means = sorted(clusterer.means)\n",
    "\n",
    "assert len(means) == 2\n",
    "assert squared_distance(means[0], [-27, -5]) < 1\n",
    "assert squared_distance(means[1], [18, 20]) < 1"
   ]
  },
  {
   "cell_type": "code",
   "execution_count": 117,
   "id": "compatible-issue",
   "metadata": {},
   "outputs": [
    {
     "data": {
      "image/png": "[encoded data removed]",
      "text/plain": [
       "<Figure size 720x720 with 1 Axes>"
      ]
     },
     "metadata": {
      "needs_background": "light"
     },
     "output_type": "display_data"
    }
   ],
   "source": [
    "x = list(x)\n",
    "x.append(means[0][0])\n",
    "x.append(means[0][1])\n",
    "x = tuple(x)\n",
    "y = list(y)\n",
    "y.append(means[1][0])\n",
    "y.append(means[1][1])\n",
    "y = tuple(y)\n",
    "\n",
    "fig, ax = plt.subplots(figsize=(10, 10))\n",
    "plt.xlim(-60, 30)\n",
    "plt.ylim(-30, 40)\n",
    "ax.scatter(x, y)\n",
    "plt.show()"
   ]
  },
  {
   "cell_type": "code",
   "execution_count": 118,
   "id": "native-representative",
   "metadata": {},
   "outputs": [
    {
     "name": "stderr",
     "output_type": "stream",
     "text": [
      "0it [00:00, ?it/s]\n",
      "changed: 2 / 20: : 2it [00:00, 1961.33it/s]\n",
      "changed: 1 / 20: : 3it [00:00, 2306.25it/s]\n",
      "changed: 2 / 20: : 3it [00:00, 1594.39it/s]\n",
      "changed: 4 / 20: : 2it [00:00, 1824.80it/s]\n",
      "changed: 1 / 20: : 3it [00:00, 1876.93it/s]\n",
      "changed: 3 / 20: : 2it [00:00, 1887.63it/s]\n",
      "changed: 2 / 20: : 3it [00:00, 1977.51it/s]\n",
      "changed: 1 / 20: : 4it [00:00, 1919.81it/s]\n",
      "changed: 6 / 20: : 2it [00:00, 1615.06it/s]\n",
      "changed: 2 / 20: : 4it [00:00, 1712.83it/s]\n",
      "changed: 2 / 20: : 3it [00:00, 1509.65it/s]\n",
      "changed: 1 / 20: : 4it [00:00, 1548.86it/s]\n",
      "changed: 3 / 20: : 4it [00:00, 671.60it/s]\n",
      "changed: 4 / 20: : 3it [00:00, 1405.13it/s]\n",
      "changed: 1 / 20: : 3it [00:00, 1131.05it/s]\n",
      "changed: 1 / 20: : 3it [00:00, 1306.64it/s]\n",
      "changed: 3 / 20: : 3it [00:00, 1250.66it/s]\n",
      "changed: 2 / 20: : 3it [00:00, 1134.11it/s]\n",
      "changed: 2 / 20: : 4it [00:00, 858.52it/s]"
     ]
    },
    {
     "name": "stdout",
     "output_type": "stream",
     "text": [
      "[[-29.75, -3.75], [10.875, 12.0]]\n",
      "[[-27.07142857142857, -4.714285714285714], [18.166666666666664, 19.5]]\n",
      "[[-35.11111111111111, -1.3333333333333333], [-12.600000000000001, -10.8], [18.166666666666664, 19.5]]\n",
      "[[-42.166666666666664, 2.833333333333333], [-15.75, -10.375], [18.166666666666664, 19.5]]\n",
      "[[-45.0, 5.4], [-17.11111111111111, -10.333333333333332], [18.166666666666664, 19.5]]\n",
      "[[18.166666666666664, 19.5], [-28, -10], [-12.5, -8.5], [-32.9, -3.2]]\n",
      "[[18.166666666666664, 19.5], [-15.666666666666666, -5.0], [-15.8, -13.600000000000001], [-42.166666666666664, 2.833333333333333]]\n",
      "[[18.166666666666664, 19.5], [-15.0, -5.75], [-18.8, -14.0], [-45.0, 5.4]]\n",
      "[[-50, 15], [-42.166666666666664, 2.833333333333333], [18.166666666666664, 19.5], [25, 15], [-15.75, -10.375]]\n",
      "[[-49.0, 2.5], [-42.33333333333333, 7.333333333333333], [18.166666666666664, 19.5], [-25.5, -12.5], [-14.714285714285714, -9.714285714285714]]\n",
      "[[-13, -20], [-28, -10], [18.166666666666664, 19.5], [-42.166666666666664, 2.833333333333333], [-15.75, -10.375], [-50, 15]]\n",
      "[[21.75, 22.5], [11.0, 13.5], [25, 15], [-43.75, 3.0], [-17.11111111111111, -10.333333333333332], [-50.0, 15.0]]\n",
      "[[21.75, 22.5], [11.0, 13.5], [-42.0, 8.0], [-44.33333333333333, 1.3333333333333333], [-17.11111111111111, -10.333333333333332], [-50.0, 15.0]]\n",
      "[[18.166666666666664, 19.5], [-12, -6], [-47.5, 7.0], [-35.0, -1.0], [-19.0, -12.333333333333332], [-13.333333333333332, -6.333333333333333], [20, 20]]\n",
      "[[18.166666666666664, 19.5], [-20.0, -4.0], [-49.33333333333333, 6.666666666666666], [-35.0, -1.0], [-21.0, -13.75], [-12.5, -8.5], [-42.0, 8.0]]\n",
      "[[25, 15], [-11.5, -17.5], [-15, -5], [18.166666666666664, 19.5], [-13.333333333333332, -6.333333333333333], [-13, -8], [-33.25, -3.375], [-50.0, 15.0]]\n",
      "[[21.0, 27.5], [-15.333333333333332, -16.666666666666664], [25.0, 15.0], [14.0, 15.666666666666666], [-16.0, -6.6000000000000005], [-35.0, -1.0], [-28.0, -10.0], [-47.5, 7.0]]\n",
      "[[21.0, 27.5], [-11.5, -17.5], [22.5, 17.5], [11.0, 13.5], [-16.0, -6.6000000000000005], [-35.0, -1.0], [-25.5, -12.5], [-47.5, 7.0]]\n",
      "[[-12.0, -6.0], [-28, -10], [10, 15], [-27.5, -5.5], [-47.5, 7.0], [-18.5, -15.0], [20, 20], [18.166666666666664, 19.5], [-16.0, -5.666666666666666]]\n",
      "[[-12.5, -7.0], [11.0, 13.5], [21.0, 27.5], [-31.5, -5.5], [-47.5, 7.0], [-16.5, -15.0], [25.0, 15.0], [20.0, 20.0], [-17.5, -4.5]]\n",
      "[[-12.5, -7.0], [11.0, 13.5], [21.0, 27.5], [-31.5, -5.5], [-47.5, 7.0], [-15.333333333333332, -16.666666666666664], [25.0, 15.0], [20.0, 20.0], [-18.333333333333332, -6.333333333333333]]\n",
      "[[-13.333333333333332, -6.333333333333333], [11.0, 13.5], [21.0, 27.5], [-31.5, -5.5], [-47.5, 7.0], [-15.333333333333332, -16.666666666666664], [25.0, 15.0], [20.0, 20.0], [-20.0, -7.0]]\n",
      "[[25, 15], [-12.0, -6.0], [-14.75, -14.5], [10.0, 15.0], [-31.5, -5.5], [-42, 8], [-23, -15], [-47.5, 7.0], [-18.333333333333332, -6.333333333333333], [19.8, 20.400000000000002]]\n",
      "[[-42.0, 8.0], [-13.333333333333332, -6.333333333333333], [-11.5, -17.5], [11.0, 13.5], [-31.5, -5.5], [25.0, 15.0], [-23.0, -15.0], [-49.33333333333333, 6.666666666666666], [-20.0, -7.0], [20.666666666666664, 25.0]]\n",
      "[[-15.166666666666666, -10.333333333333332], [-12.0, -6.0], [-50, 0], [-45.0, 5.4], [-50, 15], [21.75, 22.5], [-25.5, -12.5], [-50, 15], [11.0, 13.5], [-23, -15], [-20, -4]]\n",
      "[[-15.75, -12.25], [-13.5, -5.5], [20.0, 28.0], [-43.75, 3.0], [25, 15], [22.5, 17.5], [-25.5, -12.5], [-13.0, -8.0], [11.0, 13.5], [22.0, 27.0], [-50.0, 15.0]]\n",
      "[[-14.333333333333332, -15.0], [-15.666666666666666, -5.0], [20.0, 28.0], [-43.75, 3.0], [12.0, 12.0], [22.5, 17.5], [-25.5, -12.5], [-13.0, -8.0], [10.0, 15.0], [22.0, 27.0], [-50.0, 15.0]]\n",
      "[[-11.5, -17.5], [-17.5, -4.5], [20.0, 28.0], [-43.75, 3.0], [12.0, 12.0], [22.5, 17.5], [-23.666666666666664, -11.666666666666666], [-12.5, -7.0], [10.0, 15.0], [22.0, 27.0], [-50.0, 15.0]]\n",
      "[[-11.5, -17.5], [-49.0, 2.5], [-12, -6], [-20.0, -4.0], [25, 15], [18.166666666666664, 19.5], [-35.0, -1.0], [-50, 15], [-23.666666666666664, -11.666666666666666], [-13.333333333333332, -6.333333333333333], [-46.0, 11.5], [-50, 15]]\n",
      "[[-11.5, -17.5], [-49.0, 2.5], [-20.0, -4.0], [-15, -5], [-28.0, -10.0], [16.75, 15.5], [-35.0, -1.0], [-13, -8], [-21.5, -12.5], [-13.333333333333332, -6.333333333333333], [-46.0, 11.5], [21.0, 27.5]]\n",
      "[[-13.0, -20.0], [-49.0, 2.5], [-20.0, -4.0], [-10.0, -15.0], [-28.0, -10.0], [16.75, 15.5], [-35.0, -1.0], [20.0, 28.0], [-21.5, -12.5], [-13.333333333333332, -6.333333333333333], [-46.0, 11.5], [22.0, 27.0]]\n",
      "[[-18.666666666666664, -15.0], [-12, -6], [-35.0, -1.0], [-28.0, -10.0], [-42, 8], [18.0, 22.5], [12, 12], [-47.5, 7.0], [-42, 8], [18.5, 13.5], [12, 12], [-20.0, -4.0], [-12.5, -8.5]]\n",
      "[[-21.5, -12.5], [-11.5, -17.5], [-35.0, -1.0], [-28.0, -10.0], [-50.0, 15.0], [20.666666666666664, 25.0], [-15.0, -5.0], [-46.666666666666664, 4.333333333333333], [-12.0, -6.0], [15.666666666666666, 14.0], [-28, -10], [-20.0, -4.0], [-13.0, -8.0]]\n",
      "[[-21.5, -12.5], [-11.5, -17.5], [-35.0, -1.0], [-28.0, -10.0], [-50.0, 15.0], [20.0, 20.0], [-15.0, -5.0], [-46.666666666666664, 4.333333333333333], [-12.0, -6.0], [15.666666666666666, 14.0], [21.0, 27.5], [-20.0, -4.0], [-13.0, -8.0]]\n",
      "[[-21.5, -12.5], [-11.5, -17.5], [-35.0, -1.0], [-28.0, -10.0], [-50.0, 15.0], [22.5, 17.5], [-15.0, -5.0], [-46.666666666666664, 4.333333333333333], [-12.0, -6.0], [11.0, 13.5], [21.0, 27.5], [-20.0, -4.0], [-13.0, -8.0]]\n",
      "[[-11.666666666666666, -9.666666666666666], [-28.0, -10.0], [22.0, 27.0], [-17.5, -7.5], [20.0, 28.0], [-23.0, -15.0], [-13, -8], [22.5, 17.5], [11.0, 13.5], [-13.0, -20.0], [-49.33333333333333, 6.666666666666666], [-20.0, -4.0], [-38.5, 3.5], [-20, -10]]\n",
      "[[-11.666666666666666, -9.666666666666666], [-28.0, -10.0], [22.0, 27.0], [-17.5, -7.5], [20.0, 28.0], [-23.0, -15.0], [-20.0, -4.0], [22.5, 17.5], [11.0, 13.5], [-13.0, -20.0], [-49.33333333333333, 6.666666666666666], [-28, -10], [-38.5, 3.5], [-13, -20]]\n",
      "[[-10.0, -15.0], [-28.0, -10.0], [22.0, 27.0], [-17.5, -7.5], [20.0, 28.0], [-23.0, -15.0], [-20.0, -4.0], [22.5, 17.5], [11.0, 13.5], [-13.0, -20.0], [-49.33333333333333, 6.666666666666666], [-42, 8], [-38.5, 3.5], [-12.5, -7.0]]\n",
      "[[-10.0, -15.0], [-28.0, -10.0], [22.0, 27.0], [-20.0, -10.0], [20.0, 28.0], [-23.0, -15.0], [-20.0, -4.0], [22.5, 17.5], [11.0, 13.5], [-13.0, -20.0], [-50.0, 15.0], [-49.0, 2.5], [-38.5, 3.5], [-13.333333333333332, -6.333333333333333]]\n",
      "[[-23, -15], [-15.0, -5.75], [21.75, 22.5], [10, 15], [11.0, 13.5], [-35.0, -1.0], [-13.0, -20.0], [-15.0, -12.5], [-23.0, -15.0], [-42.0, 8.0], [-10, -15], [-13, -8], [20, 28], [-49.33333333333333, 6.666666666666666], [-28.0, -10.0]]\n",
      "[[-35.0, -1.0], [-15.0, -5.75], [20.666666666666664, 25.0], [-42.0, 8.0], [10.0, 15.0], [22, 27], [-13.0, -20.0], [-15.0, -12.5], [-23.0, -15.0], [-10, -15], [25.0, 15.0], [12.0, 12.0], [-13, -20], [-49.33333333333333, 6.666666666666666], [-28.0, -10.0]]\n",
      "[[-35.0, -1.0], [-17.5, -4.5], [21.0, 27.5], [-42.0, 8.0], [10.0, 15.0], [20.0, 20.0], [-13.0, -20.0], [-15.0, -12.5], [-23.0, -15.0], [12.0, 12.0], [25.0, 15.0], [12, 12], [-12.5, -7.0], [-49.33333333333333, 6.666666666666666], [-28.0, -10.0]]\n",
      "[[-46.666666666666664, 9.333333333333332], [-35, -1], [10, 15], [-15.0, -5.0], [-13, -8], [-50.0, 0.0], [20, 20], [-10, -15], [-20.0, -7.0], [-13.0, -8.0], [-35.0, -1.0], [18.166666666666664, 19.5], [-12.0, -6.0], [20, 20], [-25.5, -12.5], [-11.5, -17.5]]\n",
      "[[-42.0, 8.0], [20.0, 20.0], [-50.0, 15.0], [-15.0, -5.0], [21.0, 27.5], [-50.0, 0.0], [-48.0, 5.0], [-48, 5], [-20.0, -7.0], [-13.0, -8.0], [-35.0, -1.0], [11.0, 13.5], [-12.0, -6.0], [25.0, 15.0], [-25.5, -12.5], [-11.5, -17.5]]\n",
      "[[-42.0, 8.0], [20.0, 20.0], [-50.0, 15.0], [-15.0, -5.0], [21.0, 27.5], [-50.0, 0.0], [-48.0, 5.0], [-13.0, -20.0], [-20.0, -7.0], [-13.0, -8.0], [-35.0, -1.0], [11.0, 13.5], [-12.0, -6.0], [25.0, 15.0], [-25.5, -12.5], [-10.0, -15.0]]\n",
      "[[-23.0, -15.0], [-46.0, 11.5], [-13.0, -20.0], [-28.0, -10.0], [-35.0, -1.0], [-20.0, -4.0], [-49.0, 2.5], [-12, -6], [-50, 15], [-50, 15], [-10.0, -15.0], [-20.0, -10.0], [18.166666666666664, 19.5], [12, 12], [-15.0, -5.0], [-13, -20], [-12.5, -7.0]]\n",
      "[[-23.0, -15.0], [-46.0, 11.5], [-13.0, -20.0], [-28.0, -10.0], [-35.0, -1.0], [-20.0, -4.0], [-50.0, 0.0], [-13, -8], [11.0, 13.5], [25.0, 15.0], [-10.0, -15.0], [-20.0, -10.0], [20.666666666666664, 25.0], [-48.0, 5.0], [-15.0, -5.0], [-13, -20], [-12.5, -7.0]]\n",
      "[[-23.0, -15.0], [-42.0, 8.0], [-13.0, -20.0], [-28.0, -10.0], [-35.0, -1.0], [-20.0, -4.0], [-50.0, 0.0], [-50.0, 15.0], [11.0, 13.5], [25.0, 15.0], [-10.0, -15.0], [-20.0, -10.0], [20.666666666666664, 25.0], [-48.0, 5.0], [-15.0, -5.0], [10, 15], [-12.5, -7.0]]\n",
      "[[-25.5, -12.5], [-23, -15], [25.0, 15.0], [-50, 15], [-10, -15], [-18.333333333333332, -6.333333333333333], [-10.0, -15.0], [-35.0, -1.0], [10, 15], [-13, -8], [11.0, 13.5], [-13.0, -8.0], [-13.0, -20.0], [-47.5, 7.0], [-23, -15], [10, 15], [20.666666666666664, 25.0], [-12.0, -6.0]]\n",
      "[[-25.5, -12.5], [-13.0, -8.0], [25.0, 15.0], [-48.0, 5.0], [-50.0, 15.0], [-20.0, -10.0], [-10.0, -15.0], [-35.0, -1.0], [20, 20], [12.0, 12.0], [10.0, 15.0], [22, 27], [-13.0, -20.0], [-42.0, 8.0], [-20.0, -4.0], [-50.0, 0.0], [20.666666666666664, 25.0], [-13.5, -5.5]]\n",
      "[[-28.0, -10.0], [-13.0, -8.0], [25.0, 15.0], [-48.0, 5.0], [-50.0, 15.0], [-20.0, -10.0], [-10.0, -15.0], [-35.0, -1.0], [21.0, 27.5], [12.0, 12.0], [10.0, 15.0], [-23.0, -15.0], [-13.0, -20.0], [-42.0, 8.0], [-20.0, -4.0], [-50.0, 0.0], [20.0, 20.0], [-13.5, -5.5]]\n",
      "[[21.75, 22.5], [10.0, 15.0], [-42, 8], [-13, -8], [-50, 0], [-11.5, -17.5], [-13, -8], [-50.0, 0.0], [-13, -8], [-23.666666666666664, -11.666666666666666], [12.0, 12.0], [-13.5, -5.5], [-20.0, -4.0], [-28, -10], [-46.666666666666664, 9.333333333333332], [-13.0, -8.0], [-35.0, -1.0], [-50, 0], [-20, -10]]\n",
      "[[20.666666666666664, 25.0], [10.0, 15.0], [-13.0, -8.0], [-48.0, 5.0], [25.0, 15.0], [-11.5, -17.5], [-35.0, -1.0], [-50.0, 0.0], [-23.0, -15.0], [-24.0, -10.0], [12.0, 12.0], [-13.5, -5.5], [-20.0, -4.0], [-50, 0], [-50.0, 15.0], [-15, -5], [-13, -8], [-50, 0], [-42.0, 8.0]]\n",
      "[[20.666666666666664, 25.0], [10.0, 15.0], [-13.0, -8.0], [-48.0, 5.0], [25.0, 15.0], [-11.5, -17.5], [-35.0, -1.0], [-50.0, 0.0], [-23.0, -15.0], [10, 15], [12.0, 12.0], [-13.5, -5.5], [-20.0, -4.0], [-42, 8], [-50.0, 15.0], [-20.0, -10.0], [12, 12], [-28.0, -10.0], [-42.0, 8.0]]\n",
      "[[-50.0, 0.0], [-21.5, -12.5], [-13.0, -8.0], [-11.5, -17.5], [25.0, 15.0], [11.0, 13.5], [-50.0, 15.0], [-12.0, -6.0], [20.0, 20.0], [-13, -8], [-13, -20], [-45.0, 6.5], [21.0, 27.5], [-50, 15], [-35, -1], [-35.0, -1.0], [-28.0, -10.0], [25, 15], [-50, 0], [-17.5, -4.5]]\n",
      "[[-50.0, 0.0], [-21.5, -12.5], [-13.0, -8.0], [20, 28], [25.0, 15.0], [11.0, 13.5], [-50.0, 15.0], [-12.0, -6.0], [20.0, 20.0], [-10.0, -15.0], [-48.0, 5.0], [-42.0, 8.0], [21.0, 27.5], [-13, -20], [-35.0, -1.0], [-35, -1], [-28.0, -10.0], [-13.0, -20.0], [-15.0, -5.0], [-20.0, -4.0]]\n",
      "[[-50.0, 0.0], [-21.5, -12.5], [-13.0, -8.0], [22.0, 27.0], [25.0, 15.0], [11.0, 13.5], [-50.0, 15.0], [-12.0, -6.0], [20.0, 20.0], [-10.0, -15.0], [-48.0, 5.0], [-42.0, 8.0], [20.0, 28.0], [-13.0, -20.0], [-35.0, -1.0], [-15.0, -5.0], [-28.0, -10.0], [-13, -8], [-48, 5], [-20.0, -4.0]]\n",
      "[[-50.0, 0.0], [-23.0, -15.0], [-13.0, -8.0], [22.0, 27.0], [25.0, 15.0], [12.0, 12.0], [-50.0, 15.0], [-12.0, -6.0], [20.0, 20.0], [-10.0, -15.0], [-48.0, 5.0], [-42.0, 8.0], [20.0, 28.0], [-13.0, -20.0], [-35.0, -1.0], [-15.0, -5.0], [-28.0, -10.0], [-20.0, -10.0], [10.0, 15.0], [-20.0, -4.0]]\n"
     ]
    },
    {
     "name": "stderr",
     "output_type": "stream",
     "text": [
      "\n"
     ]
    },
    {
     "data": {
      "image/png": "[encoded data removed]",
      "text/plain": [
       "<Figure size 432x288 with 1 Axes>"
      ]
     },
     "metadata": {
      "needs_background": "light"
     },
     "output_type": "display_data"
    }
   ],
   "source": [
    "def squared_clustering_errors(inputs: List[Vector], k: int) -> float:\n",
    "    \"\"\"finds the total squared error from k-means clustering the inputs\"\"\"\n",
    "    clusterer = KMeans(k)\n",
    "    clusterer.train(inputs)\n",
    "    means = clusterer.means\n",
    "    assignments = [clusterer.classify(input) for input in inputs]\n",
    "    return sum(squared_distance(input, means[cluster]) for input, cluster in zip(inputs, assignments))\n",
    "\n",
    "# now plot from 1 up to len(inputs) clusters\n",
    "ks = range(1, len(inputs) + 1)\n",
    "errors = [squared_clustering_errors(inputs, k) for k in ks]\n",
    "plt.plot(ks, errors)\n",
    "plt.xticks(ks)\n",
    "plt.xlabel(\"k\")\n",
    "plt.ylabel(\"total squared error\")\n",
    "plt.title(\"Total Error vs. # of Clusters\")\n",
    "plt.show()\n"
   ]
  },
  {
   "cell_type": "code",
   "execution_count": null,
   "id": "minor-consultation",
   "metadata": {},
   "outputs": [],
   "source": []
  }
 ],
 "metadata": {
  "kernelspec": {
   "display_name": "Python 3",
   "language": "python",
   "name": "python3"
  },
  "language_info": {
   "codemirror_mode": {
    "name": "ipython",
    "version": 3
   },
   "file_extension": ".py",
   "mimetype": "text/x-python",
   "name": "python",
   "nbconvert_exporter": "python",
   "pygments_lexer": "ipython3",
   "version": "3.8.3"
  }
 },
 "nbformat": 4,
 "nbformat_minor": 5
}
